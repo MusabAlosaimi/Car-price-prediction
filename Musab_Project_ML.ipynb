{
  "nbformat": 4,
  "nbformat_minor": 0,
  "metadata": {
    "colab": {
      "provenance": [],
      "gpuType": "T4"
    },
    "kernelspec": {
      "name": "python3",
      "display_name": "Python 3"
    },
    "language_info": {
      "name": "python"
    },
    "accelerator": "GPU"
  },
  "cells": [
    {
      "cell_type": "markdown",
      "source": [
        "Confirmed by Omar"
      ],
      "metadata": {
        "id": "gffqHPOki0Jg"
      }
    },
    {
      "cell_type": "markdown",
      "source": [
        "used car  Price prediction\n",
        "the dataset: https://www.kaggle.com/datasets/jpayne/852k-used-car-listings/code\n",
        "Musab\n"
      ],
      "metadata": {
        "id": "YX2rUXnwhafi"
      }
    },
    {
      "cell_type": "code",
      "source": [
        "!pip install kagglehub\n"
      ],
      "metadata": {
        "colab": {
          "base_uri": "https://localhost:8080/"
        },
        "id": "8-nxeEiusUs8",
        "outputId": "60b66c39-d80a-4bb0-d579-993a3238ba41"
      },
      "execution_count": null,
      "outputs": [
        {
          "output_type": "stream",
          "name": "stdout",
          "text": [
            "Requirement already satisfied: kagglehub in /usr/local/lib/python3.11/dist-packages (0.3.10)\n",
            "Requirement already satisfied: packaging in /usr/local/lib/python3.11/dist-packages (from kagglehub) (24.2)\n",
            "Requirement already satisfied: pyyaml in /usr/local/lib/python3.11/dist-packages (from kagglehub) (6.0.2)\n",
            "Requirement already satisfied: requests in /usr/local/lib/python3.11/dist-packages (from kagglehub) (2.32.3)\n",
            "Requirement already satisfied: tqdm in /usr/local/lib/python3.11/dist-packages (from kagglehub) (4.67.1)\n",
            "Requirement already satisfied: charset-normalizer<4,>=2 in /usr/local/lib/python3.11/dist-packages (from requests->kagglehub) (3.4.1)\n",
            "Requirement already satisfied: idna<4,>=2.5 in /usr/local/lib/python3.11/dist-packages (from requests->kagglehub) (3.10)\n",
            "Requirement already satisfied: urllib3<3,>=1.21.1 in /usr/local/lib/python3.11/dist-packages (from requests->kagglehub) (2.3.0)\n",
            "Requirement already satisfied: certifi>=2017.4.17 in /usr/local/lib/python3.11/dist-packages (from requests->kagglehub) (2025.1.31)\n"
          ]
        }
      ]
    },
    {
      "cell_type": "code",
      "source": [
        "!nvidia-smi"
      ],
      "metadata": {
        "colab": {
          "base_uri": "https://localhost:8080/"
        },
        "id": "vp_GNavzjuiQ",
        "outputId": "ef6e7297-2e5f-4e0f-8311-6fef9f222f7d"
      },
      "execution_count": null,
      "outputs": [
        {
          "output_type": "stream",
          "name": "stdout",
          "text": [
            "Tue Apr 15 14:43:50 2025       \n",
            "+-----------------------------------------------------------------------------------------+\n",
            "| NVIDIA-SMI 550.54.15              Driver Version: 550.54.15      CUDA Version: 12.4     |\n",
            "|-----------------------------------------+------------------------+----------------------+\n",
            "| GPU  Name                 Persistence-M | Bus-Id          Disp.A | Volatile Uncorr. ECC |\n",
            "| Fan  Temp   Perf          Pwr:Usage/Cap |           Memory-Usage | GPU-Util  Compute M. |\n",
            "|                                         |                        |               MIG M. |\n",
            "|=========================================+========================+======================|\n",
            "|   0  Tesla T4                       Off |   00000000:00:04.0 Off |                    0 |\n",
            "| N/A   40C    P8              9W /   70W |       0MiB /  15360MiB |      0%      Default |\n",
            "|                                         |                        |                  N/A |\n",
            "+-----------------------------------------+------------------------+----------------------+\n",
            "                                                                                         \n",
            "+-----------------------------------------------------------------------------------------+\n",
            "| Processes:                                                                              |\n",
            "|  GPU   GI   CI        PID   Type   Process name                              GPU Memory |\n",
            "|        ID   ID                                                               Usage      |\n",
            "|=========================================================================================|\n",
            "|  No running processes found                                                             |\n",
            "+-----------------------------------------------------------------------------------------+\n"
          ]
        }
      ]
    },
    {
      "cell_type": "code",
      "source": [
        "import kagglehub\n",
        "path = kagglehub.dataset_download('jpayne/852k-used-car-listings')\n",
        "\n",
        "print('Data source import complete.',path)\n"
      ],
      "metadata": {
        "colab": {
          "base_uri": "https://localhost:8080/"
        },
        "id": "2io8xZKbo8id",
        "outputId": "9cf8f481-ed4f-4694-8216-640bd54a9c92"
      },
      "execution_count": null,
      "outputs": [
        {
          "output_type": "stream",
          "name": "stdout",
          "text": [
            "Data source import complete. /kaggle/input/852k-used-car-listings\n"
          ]
        }
      ]
    },
    {
      "cell_type": "code",
      "source": [
        "# prompt: import OS\n",
        "\n",
        "import os\n",
        "os.listdir('/kaggle/input/852k-used-car-listings')\n"
      ],
      "metadata": {
        "id": "hco33iz9goxr",
        "colab": {
          "base_uri": "https://localhost:8080/"
        },
        "outputId": "280efec7-34f8-428f-8188-445a26a1d190"
      },
      "execution_count": null,
      "outputs": [
        {
          "output_type": "execute_result",
          "data": {
            "text/plain": [
              "['tc20171021.csv', 'true_car_listings.csv']"
            ]
          },
          "metadata": {},
          "execution_count": 4
        }
      ]
    },
    {
      "cell_type": "code",
      "source": [
        "import numpy as np\n",
        "import pandas as pd\n",
        "import matplotlib.pyplot as plt\n",
        "import seaborn as sns\n",
        "import time\n",
        "from sklearn.metrics import accuracy_score, confusion_matrix\n",
        "import cudf\n",
        "import cuml\n",
        "from cuml.linear_model import LogisticRegression\n",
        "from cuml.model_selection import train_test_split\n",
        "from cuml.preprocessing import StandardScaler\n"
      ],
      "metadata": {
        "id": "WH3p5DKAf6rL"
      },
      "execution_count": null,
      "outputs": []
    },
    {
      "cell_type": "code",
      "source": [
        "for dirname, _, filenames in os.walk('tc20171021.csv'):\n",
        "    for filename in filenames:\n",
        "        print(os.path.join(dirname, filename))\n"
      ],
      "metadata": {
        "id": "r3Wb_guAo-dR"
      },
      "execution_count": null,
      "outputs": []
    },
    {
      "cell_type": "code",
      "source": [
        "# Load the dataset into a cuDF DataFrame\n",
        "gdf = cudf.read_csv(\"/kaggle/input/852k-used-car-listings/tc20171021.csv\")\n",
        "\n",
        "# Display the first few rows of the dataset\n",
        "print(gdf.head())\n"
      ],
      "metadata": {
        "colab": {
          "base_uri": "https://localhost:8080/"
        },
        "id": "xXjkrF7vp2mO",
        "outputId": "8e425a7e-74f3-41f1-bb91-9a30594d2d42"
      },
      "execution_count": null,
      "outputs": [
        {
          "output_type": "stream",
          "name": "stdout",
          "text": [
            "   Id  Price  Year  Mileage            City State                Vin   Make  \\\n",
            "0   1  16472  2015    18681  Jefferson City    MO  KL4CJBSBXFB267643  Buick   \n",
            "1   2  15749  2015    27592        Highland    IN  KL4CJASB5FB245057  Buick   \n",
            "2   3  16998  2015    13650           Boone    NC  KL4CJCSB0FB264921  Buick   \n",
            "3   4  15777  2015    25195     New Orleans    LA  KL4CJASB4FB217542  Buick   \n",
            "4   5  16784  2015    22800       Las Vegas    NV  KL4CJBSB3FB166881  Buick   \n",
            "\n",
            "               Model  \n",
            "0  EncoreConvenience  \n",
            "1          EncoreFWD  \n",
            "2      EncoreLeather  \n",
            "3          EncoreFWD  \n",
            "4  EncoreConvenience  \n"
          ]
        }
      ]
    },
    {
      "cell_type": "code",
      "source": [
        "# exploration\n",
        "print(\"\\nDataset shape:\", gdf.shape)\n",
        "print(\"\\nSample of the data:\")\n",
        "print(gdf.head())\n",
        "print(\"\\nClass distribution:\")\n"
      ],
      "metadata": {
        "colab": {
          "base_uri": "https://localhost:8080/"
        },
        "id": "zc4Kbk9whKoi",
        "outputId": "6b151c1c-be7e-4a7e-ae18-3eab22b147c1"
      },
      "execution_count": null,
      "outputs": [
        {
          "output_type": "stream",
          "name": "stdout",
          "text": [
            "\n",
            "Dataset shape: (1233042, 9)\n",
            "\n",
            "Sample of the data:\n",
            "   Id  Price  Year  Mileage            City State                Vin   Make  \\\n",
            "0   1  16472  2015    18681  Jefferson City    MO  KL4CJBSBXFB267643  Buick   \n",
            "1   2  15749  2015    27592        Highland    IN  KL4CJASB5FB245057  Buick   \n",
            "2   3  16998  2015    13650           Boone    NC  KL4CJCSB0FB264921  Buick   \n",
            "3   4  15777  2015    25195     New Orleans    LA  KL4CJASB4FB217542  Buick   \n",
            "4   5  16784  2015    22800       Las Vegas    NV  KL4CJBSB3FB166881  Buick   \n",
            "\n",
            "               Model  \n",
            "0  EncoreConvenience  \n",
            "1          EncoreFWD  \n",
            "2      EncoreLeather  \n",
            "3          EncoreFWD  \n",
            "4  EncoreConvenience  \n",
            "\n",
            "Class distribution:\n"
          ]
        }
      ]
    },
    {
      "cell_type": "code",
      "source": [
        "gdf = gdf.drop('Vin', axis=1)\n",
        "gdf = gdf.drop('Id', axis=1)"
      ],
      "metadata": {
        "id": "4-lT-Y_gho4u"
      },
      "execution_count": null,
      "outputs": []
    },
    {
      "cell_type": "code",
      "source": [
        "print(gdf.head())"
      ],
      "metadata": {
        "colab": {
          "base_uri": "https://localhost:8080/"
        },
        "id": "wvyW96j2hgnH",
        "outputId": "47794729-43bb-4ab8-82a8-a4bf4f83826c"
      },
      "execution_count": null,
      "outputs": [
        {
          "output_type": "stream",
          "name": "stdout",
          "text": [
            "   Price  Year  Mileage            City State   Make              Model\n",
            "0  16472  2015    18681  Jefferson City    MO  Buick  EncoreConvenience\n",
            "1  15749  2015    27592        Highland    IN  Buick          EncoreFWD\n",
            "2  16998  2015    13650           Boone    NC  Buick      EncoreLeather\n",
            "3  15777  2015    25195     New Orleans    LA  Buick          EncoreFWD\n",
            "4  16784  2015    22800       Las Vegas    NV  Buick  EncoreConvenience\n"
          ]
        }
      ]
    },
    {
      "cell_type": "code",
      "source": [
        "print(\"\\nNull values per column:\")\n",
        "print(gdf.isnull().sum())\n"
      ],
      "metadata": {
        "colab": {
          "base_uri": "https://localhost:8080/"
        },
        "id": "BENeKLXxiWMt",
        "outputId": "efc84653-747b-44ae-a8c0-13d23c50794d"
      },
      "execution_count": null,
      "outputs": [
        {
          "output_type": "stream",
          "name": "stdout",
          "text": [
            "\n",
            "Null values per column:\n",
            "Price      0\n",
            "Year       0\n",
            "Mileage    0\n",
            "City       0\n",
            "State      0\n",
            "Make       0\n",
            "Model      0\n",
            "dtype: int64\n"
          ]
        }
      ]
    },
    {
      "cell_type": "code",
      "source": [
        "# GPU-based label encoding for cuDF\n",
        "for col in ['State', 'Make', 'Model', 'City']:\n",
        "    gdf[col] = gdf[col].astype('category').cat.codes\n",
        "\n",
        "print(gdf.head())\n"
      ],
      "metadata": {
        "colab": {
          "base_uri": "https://localhost:8080/"
        },
        "id": "XULGR_14i0CW",
        "outputId": "743d372c-15ef-4943-ea19-e38f898d2f0e"
      },
      "execution_count": null,
      "outputs": [
        {
          "output_type": "stream",
          "name": "stdout",
          "text": [
            "   Price  Year  Mileage  City  State  Make  Model\n",
            "0  16472  2015    18681  1085     28     7    893\n",
            "1  15749  2015    27592  1005     19     7    895\n",
            "2  16998  2015    13650   217     32     7    896\n",
            "3  15777  2015    25195  1588     22     7    895\n",
            "4  16784  2015    22800  1201     38     7    893\n"
          ]
        }
      ]
    },
    {
      "cell_type": "code",
      "source": [
        "pdf_sample = gdf.to_pandas().sample(n=1000000, random_state=511)\n"
      ],
      "metadata": {
        "id": "Qhi2m-IOjk1i"
      },
      "execution_count": null,
      "outputs": []
    },
    {
      "cell_type": "code",
      "source": [
        "pdf_sample.to_csv('test.csv', index=False)"
      ],
      "metadata": {
        "id": "6WcYfTXjjul4"
      },
      "execution_count": null,
      "outputs": []
    },
    {
      "cell_type": "code",
      "source": [
        "\n",
        "import pandas as pd\n",
        "\n",
        "print(\"Loading the dataset...\")\n",
        "N_SAMPLES = 100000  # Adjust this based on your available memory\n",
        "column_names = ['label'] + [f'feature_{i}' for i in range(1, 29)]\n",
        "\n",
        "# Assuming 'test.csv' is in the current working directory\n",
        "try:\n",
        "    # Load the dataset into a pandas DataFrame\n",
        "    df = pd.read_csv('test.csv', nrows=N_SAMPLES)\n",
        "    print(df.head())\n",
        "except FileNotFoundError:\n",
        "    print(\"Error: 'test.csv' not found. Please ensure the file exists in the current directory or provide the correct path.\")\n",
        "except pd.errors.ParserError:\n",
        "    print(\"Error: Could not parse 'test.csv'. Please check the file format.\")\n",
        "except Exception as e:\n",
        "    print(f\"An unexpected error occurred: {e}\")\n"
      ],
      "metadata": {
        "colab": {
          "base_uri": "https://localhost:8080/"
        },
        "id": "ZaY8PvHtkHUz",
        "outputId": "aadd7813-bb66-42a4-f4d5-a4277e665678"
      },
      "execution_count": null,
      "outputs": [
        {
          "output_type": "stream",
          "name": "stdout",
          "text": [
            "Loading the dataset...\n",
            "   Price  Year  Mileage  City  State  Make  Model\n",
            "0   9995  2007    67267  1911     38    55    916\n",
            "1  21995  2015    46922   257     39    51   1175\n",
            "2  23993  2016    13589   269     11     9   1709\n",
            "3  15000  2014    30186  1845     35    55   1470\n",
            "4  14750  2009   134063    94     49     9   2452\n"
          ]
        }
      ]
    },
    {
      "cell_type": "code",
      "source": [
        "# Basic data exploration\n",
        "print(\"\\nDataset shape:\", pdf_sample.shape)\n",
        "print(\"\\nSample of the data:\")\n",
        "print(pdf_sample.head())\n",
        "print(\"\\nClass distribution:\")\n",
        "print(pdf_sample['Price'].value_counts())"
      ],
      "metadata": {
        "colab": {
          "base_uri": "https://localhost:8080/"
        },
        "id": "mG8wDgoNkOE3",
        "outputId": "ce5ca0b9-6c32-42c3-dc2e-c4e8733681d3"
      },
      "execution_count": null,
      "outputs": [
        {
          "output_type": "stream",
          "name": "stdout",
          "text": [
            "\n",
            "Dataset shape: (1000000, 7)\n",
            "\n",
            "Sample of the data:\n",
            "         Price  Year  Mileage  City  State  Make  Model\n",
            "1219029   9995  2007    67267  1911     38    55    916\n",
            "1116965  21995  2015    46922   257     39    51   1175\n",
            "107296   23993  2016    13589   269     11     9   1709\n",
            "1212314  15000  2014    30186  1845     35    55   1470\n",
            "499121   14750  2009   134063    94     49     9   2452\n",
            "\n",
            "Class distribution:\n",
            "Price\n",
            "14995    5484\n",
            "13995    5358\n",
            "12995    5232\n",
            "9995     5070\n",
            "15995    4837\n",
            "         ... \n",
            "97766       1\n",
            "28573       1\n",
            "95936       1\n",
            "53849       1\n",
            "72450       1\n",
            "Name: count, Length: 48723, dtype: int64\n"
          ]
        }
      ]
    },
    {
      "cell_type": "code",
      "source": [
        "X = pdf_sample.drop('Price', axis=1)\n",
        "y = pdf_sample['Price']"
      ],
      "metadata": {
        "id": "1au7oKGxlEVg"
      },
      "execution_count": null,
      "outputs": []
    },
    {
      "cell_type": "code",
      "source": [
        "X"
      ],
      "metadata": {
        "colab": {
          "base_uri": "https://localhost:8080/",
          "height": 424
        },
        "id": "XHMExiVbvHeC",
        "outputId": "73c60377-ced8-40ca-e8f5-55b80d4adf65"
      },
      "execution_count": null,
      "outputs": [
        {
          "output_type": "execute_result",
          "data": {
            "text/plain": [
              "         Year  Mileage  City  State  Make  Model\n",
              "1219029  2007    67267  1911     38    55    916\n",
              "1116965  2015    46922   257     39    51   1175\n",
              "107296   2016    13589   269     11     9   1709\n",
              "1212314  2014    30186  1845     35    55   1470\n",
              "499121   2009   134063    94     49     9   2452\n",
              "...       ...      ...   ...    ...   ...    ...\n",
              "935184   2016    28557  1800     44    30    837\n",
              "360866   2014    34178  2370      5    55   2648\n",
              "305250   2013   101410  1259      6    46     40\n",
              "964279   2015    21096   379      5    36    500\n",
              "958763   2014    22103  1424     11    36   1744\n",
              "\n",
              "[1000000 rows x 6 columns]"
            ],
            "text/html": [
              "\n",
              "  <div id=\"df-a0897b80-a601-4a5d-986d-0e9bbed317fc\" class=\"colab-df-container\">\n",
              "    <div>\n",
              "<style scoped>\n",
              "    .dataframe tbody tr th:only-of-type {\n",
              "        vertical-align: middle;\n",
              "    }\n",
              "\n",
              "    .dataframe tbody tr th {\n",
              "        vertical-align: top;\n",
              "    }\n",
              "\n",
              "    .dataframe thead th {\n",
              "        text-align: right;\n",
              "    }\n",
              "</style>\n",
              "<table border=\"1\" class=\"dataframe\">\n",
              "  <thead>\n",
              "    <tr style=\"text-align: right;\">\n",
              "      <th></th>\n",
              "      <th>Year</th>\n",
              "      <th>Mileage</th>\n",
              "      <th>City</th>\n",
              "      <th>State</th>\n",
              "      <th>Make</th>\n",
              "      <th>Model</th>\n",
              "    </tr>\n",
              "  </thead>\n",
              "  <tbody>\n",
              "    <tr>\n",
              "      <th>1219029</th>\n",
              "      <td>2007</td>\n",
              "      <td>67267</td>\n",
              "      <td>1911</td>\n",
              "      <td>38</td>\n",
              "      <td>55</td>\n",
              "      <td>916</td>\n",
              "    </tr>\n",
              "    <tr>\n",
              "      <th>1116965</th>\n",
              "      <td>2015</td>\n",
              "      <td>46922</td>\n",
              "      <td>257</td>\n",
              "      <td>39</td>\n",
              "      <td>51</td>\n",
              "      <td>1175</td>\n",
              "    </tr>\n",
              "    <tr>\n",
              "      <th>107296</th>\n",
              "      <td>2016</td>\n",
              "      <td>13589</td>\n",
              "      <td>269</td>\n",
              "      <td>11</td>\n",
              "      <td>9</td>\n",
              "      <td>1709</td>\n",
              "    </tr>\n",
              "    <tr>\n",
              "      <th>1212314</th>\n",
              "      <td>2014</td>\n",
              "      <td>30186</td>\n",
              "      <td>1845</td>\n",
              "      <td>35</td>\n",
              "      <td>55</td>\n",
              "      <td>1470</td>\n",
              "    </tr>\n",
              "    <tr>\n",
              "      <th>499121</th>\n",
              "      <td>2009</td>\n",
              "      <td>134063</td>\n",
              "      <td>94</td>\n",
              "      <td>49</td>\n",
              "      <td>9</td>\n",
              "      <td>2452</td>\n",
              "    </tr>\n",
              "    <tr>\n",
              "      <th>...</th>\n",
              "      <td>...</td>\n",
              "      <td>...</td>\n",
              "      <td>...</td>\n",
              "      <td>...</td>\n",
              "      <td>...</td>\n",
              "      <td>...</td>\n",
              "    </tr>\n",
              "    <tr>\n",
              "      <th>935184</th>\n",
              "      <td>2016</td>\n",
              "      <td>28557</td>\n",
              "      <td>1800</td>\n",
              "      <td>44</td>\n",
              "      <td>30</td>\n",
              "      <td>837</td>\n",
              "    </tr>\n",
              "    <tr>\n",
              "      <th>360866</th>\n",
              "      <td>2014</td>\n",
              "      <td>34178</td>\n",
              "      <td>2370</td>\n",
              "      <td>5</td>\n",
              "      <td>55</td>\n",
              "      <td>2648</td>\n",
              "    </tr>\n",
              "    <tr>\n",
              "      <th>305250</th>\n",
              "      <td>2013</td>\n",
              "      <td>101410</td>\n",
              "      <td>1259</td>\n",
              "      <td>6</td>\n",
              "      <td>46</td>\n",
              "      <td>40</td>\n",
              "    </tr>\n",
              "    <tr>\n",
              "      <th>964279</th>\n",
              "      <td>2015</td>\n",
              "      <td>21096</td>\n",
              "      <td>379</td>\n",
              "      <td>5</td>\n",
              "      <td>36</td>\n",
              "      <td>500</td>\n",
              "    </tr>\n",
              "    <tr>\n",
              "      <th>958763</th>\n",
              "      <td>2014</td>\n",
              "      <td>22103</td>\n",
              "      <td>1424</td>\n",
              "      <td>11</td>\n",
              "      <td>36</td>\n",
              "      <td>1744</td>\n",
              "    </tr>\n",
              "  </tbody>\n",
              "</table>\n",
              "<p>1000000 rows × 6 columns</p>\n",
              "</div>\n",
              "    <div class=\"colab-df-buttons\">\n",
              "\n",
              "  <div class=\"colab-df-container\">\n",
              "    <button class=\"colab-df-convert\" onclick=\"convertToInteractive('df-a0897b80-a601-4a5d-986d-0e9bbed317fc')\"\n",
              "            title=\"Convert this dataframe to an interactive table.\"\n",
              "            style=\"display:none;\">\n",
              "\n",
              "  <svg xmlns=\"http://www.w3.org/2000/svg\" height=\"24px\" viewBox=\"0 -960 960 960\">\n",
              "    <path d=\"M120-120v-720h720v720H120Zm60-500h600v-160H180v160Zm220 220h160v-160H400v160Zm0 220h160v-160H400v160ZM180-400h160v-160H180v160Zm440 0h160v-160H620v160ZM180-180h160v-160H180v160Zm440 0h160v-160H620v160Z\"/>\n",
              "  </svg>\n",
              "    </button>\n",
              "\n",
              "  <style>\n",
              "    .colab-df-container {\n",
              "      display:flex;\n",
              "      gap: 12px;\n",
              "    }\n",
              "\n",
              "    .colab-df-convert {\n",
              "      background-color: #E8F0FE;\n",
              "      border: none;\n",
              "      border-radius: 50%;\n",
              "      cursor: pointer;\n",
              "      display: none;\n",
              "      fill: #1967D2;\n",
              "      height: 32px;\n",
              "      padding: 0 0 0 0;\n",
              "      width: 32px;\n",
              "    }\n",
              "\n",
              "    .colab-df-convert:hover {\n",
              "      background-color: #E2EBFA;\n",
              "      box-shadow: 0px 1px 2px rgba(60, 64, 67, 0.3), 0px 1px 3px 1px rgba(60, 64, 67, 0.15);\n",
              "      fill: #174EA6;\n",
              "    }\n",
              "\n",
              "    .colab-df-buttons div {\n",
              "      margin-bottom: 4px;\n",
              "    }\n",
              "\n",
              "    [theme=dark] .colab-df-convert {\n",
              "      background-color: #3B4455;\n",
              "      fill: #D2E3FC;\n",
              "    }\n",
              "\n",
              "    [theme=dark] .colab-df-convert:hover {\n",
              "      background-color: #434B5C;\n",
              "      box-shadow: 0px 1px 3px 1px rgba(0, 0, 0, 0.15);\n",
              "      filter: drop-shadow(0px 1px 2px rgba(0, 0, 0, 0.3));\n",
              "      fill: #FFFFFF;\n",
              "    }\n",
              "  </style>\n",
              "\n",
              "    <script>\n",
              "      const buttonEl =\n",
              "        document.querySelector('#df-a0897b80-a601-4a5d-986d-0e9bbed317fc button.colab-df-convert');\n",
              "      buttonEl.style.display =\n",
              "        google.colab.kernel.accessAllowed ? 'block' : 'none';\n",
              "\n",
              "      async function convertToInteractive(key) {\n",
              "        const element = document.querySelector('#df-a0897b80-a601-4a5d-986d-0e9bbed317fc');\n",
              "        const dataTable =\n",
              "          await google.colab.kernel.invokeFunction('convertToInteractive',\n",
              "                                                    [key], {});\n",
              "        if (!dataTable) return;\n",
              "\n",
              "        const docLinkHtml = 'Like what you see? Visit the ' +\n",
              "          '<a target=\"_blank\" href=https://colab.research.google.com/notebooks/data_table.ipynb>data table notebook</a>'\n",
              "          + ' to learn more about interactive tables.';\n",
              "        element.innerHTML = '';\n",
              "        dataTable['output_type'] = 'display_data';\n",
              "        await google.colab.output.renderOutput(dataTable, element);\n",
              "        const docLink = document.createElement('div');\n",
              "        docLink.innerHTML = docLinkHtml;\n",
              "        element.appendChild(docLink);\n",
              "      }\n",
              "    </script>\n",
              "  </div>\n",
              "\n",
              "\n",
              "<div id=\"df-4e284f76-cebe-454d-8ab6-82487d1f697c\">\n",
              "  <button class=\"colab-df-quickchart\" onclick=\"quickchart('df-4e284f76-cebe-454d-8ab6-82487d1f697c')\"\n",
              "            title=\"Suggest charts\"\n",
              "            style=\"display:none;\">\n",
              "\n",
              "<svg xmlns=\"http://www.w3.org/2000/svg\" height=\"24px\"viewBox=\"0 0 24 24\"\n",
              "     width=\"24px\">\n",
              "    <g>\n",
              "        <path d=\"M19 3H5c-1.1 0-2 .9-2 2v14c0 1.1.9 2 2 2h14c1.1 0 2-.9 2-2V5c0-1.1-.9-2-2-2zM9 17H7v-7h2v7zm4 0h-2V7h2v10zm4 0h-2v-4h2v4z\"/>\n",
              "    </g>\n",
              "</svg>\n",
              "  </button>\n",
              "\n",
              "<style>\n",
              "  .colab-df-quickchart {\n",
              "      --bg-color: #E8F0FE;\n",
              "      --fill-color: #1967D2;\n",
              "      --hover-bg-color: #E2EBFA;\n",
              "      --hover-fill-color: #174EA6;\n",
              "      --disabled-fill-color: #AAA;\n",
              "      --disabled-bg-color: #DDD;\n",
              "  }\n",
              "\n",
              "  [theme=dark] .colab-df-quickchart {\n",
              "      --bg-color: #3B4455;\n",
              "      --fill-color: #D2E3FC;\n",
              "      --hover-bg-color: #434B5C;\n",
              "      --hover-fill-color: #FFFFFF;\n",
              "      --disabled-bg-color: #3B4455;\n",
              "      --disabled-fill-color: #666;\n",
              "  }\n",
              "\n",
              "  .colab-df-quickchart {\n",
              "    background-color: var(--bg-color);\n",
              "    border: none;\n",
              "    border-radius: 50%;\n",
              "    cursor: pointer;\n",
              "    display: none;\n",
              "    fill: var(--fill-color);\n",
              "    height: 32px;\n",
              "    padding: 0;\n",
              "    width: 32px;\n",
              "  }\n",
              "\n",
              "  .colab-df-quickchart:hover {\n",
              "    background-color: var(--hover-bg-color);\n",
              "    box-shadow: 0 1px 2px rgba(60, 64, 67, 0.3), 0 1px 3px 1px rgba(60, 64, 67, 0.15);\n",
              "    fill: var(--button-hover-fill-color);\n",
              "  }\n",
              "\n",
              "  .colab-df-quickchart-complete:disabled,\n",
              "  .colab-df-quickchart-complete:disabled:hover {\n",
              "    background-color: var(--disabled-bg-color);\n",
              "    fill: var(--disabled-fill-color);\n",
              "    box-shadow: none;\n",
              "  }\n",
              "\n",
              "  .colab-df-spinner {\n",
              "    border: 2px solid var(--fill-color);\n",
              "    border-color: transparent;\n",
              "    border-bottom-color: var(--fill-color);\n",
              "    animation:\n",
              "      spin 1s steps(1) infinite;\n",
              "  }\n",
              "\n",
              "  @keyframes spin {\n",
              "    0% {\n",
              "      border-color: transparent;\n",
              "      border-bottom-color: var(--fill-color);\n",
              "      border-left-color: var(--fill-color);\n",
              "    }\n",
              "    20% {\n",
              "      border-color: transparent;\n",
              "      border-left-color: var(--fill-color);\n",
              "      border-top-color: var(--fill-color);\n",
              "    }\n",
              "    30% {\n",
              "      border-color: transparent;\n",
              "      border-left-color: var(--fill-color);\n",
              "      border-top-color: var(--fill-color);\n",
              "      border-right-color: var(--fill-color);\n",
              "    }\n",
              "    40% {\n",
              "      border-color: transparent;\n",
              "      border-right-color: var(--fill-color);\n",
              "      border-top-color: var(--fill-color);\n",
              "    }\n",
              "    60% {\n",
              "      border-color: transparent;\n",
              "      border-right-color: var(--fill-color);\n",
              "    }\n",
              "    80% {\n",
              "      border-color: transparent;\n",
              "      border-right-color: var(--fill-color);\n",
              "      border-bottom-color: var(--fill-color);\n",
              "    }\n",
              "    90% {\n",
              "      border-color: transparent;\n",
              "      border-bottom-color: var(--fill-color);\n",
              "    }\n",
              "  }\n",
              "</style>\n",
              "\n",
              "  <script>\n",
              "    async function quickchart(key) {\n",
              "      const quickchartButtonEl =\n",
              "        document.querySelector('#' + key + ' button');\n",
              "      quickchartButtonEl.disabled = true;  // To prevent multiple clicks.\n",
              "      quickchartButtonEl.classList.add('colab-df-spinner');\n",
              "      try {\n",
              "        const charts = await google.colab.kernel.invokeFunction(\n",
              "            'suggestCharts', [key], {});\n",
              "      } catch (error) {\n",
              "        console.error('Error during call to suggestCharts:', error);\n",
              "      }\n",
              "      quickchartButtonEl.classList.remove('colab-df-spinner');\n",
              "      quickchartButtonEl.classList.add('colab-df-quickchart-complete');\n",
              "    }\n",
              "    (() => {\n",
              "      let quickchartButtonEl =\n",
              "        document.querySelector('#df-4e284f76-cebe-454d-8ab6-82487d1f697c button');\n",
              "      quickchartButtonEl.style.display =\n",
              "        google.colab.kernel.accessAllowed ? 'block' : 'none';\n",
              "    })();\n",
              "  </script>\n",
              "</div>\n",
              "\n",
              "  <div id=\"id_d842959c-b857-4080-af75-108da0c0d21e\">\n",
              "    <style>\n",
              "      .colab-df-generate {\n",
              "        background-color: #E8F0FE;\n",
              "        border: none;\n",
              "        border-radius: 50%;\n",
              "        cursor: pointer;\n",
              "        display: none;\n",
              "        fill: #1967D2;\n",
              "        height: 32px;\n",
              "        padding: 0 0 0 0;\n",
              "        width: 32px;\n",
              "      }\n",
              "\n",
              "      .colab-df-generate:hover {\n",
              "        background-color: #E2EBFA;\n",
              "        box-shadow: 0px 1px 2px rgba(60, 64, 67, 0.3), 0px 1px 3px 1px rgba(60, 64, 67, 0.15);\n",
              "        fill: #174EA6;\n",
              "      }\n",
              "\n",
              "      [theme=dark] .colab-df-generate {\n",
              "        background-color: #3B4455;\n",
              "        fill: #D2E3FC;\n",
              "      }\n",
              "\n",
              "      [theme=dark] .colab-df-generate:hover {\n",
              "        background-color: #434B5C;\n",
              "        box-shadow: 0px 1px 3px 1px rgba(0, 0, 0, 0.15);\n",
              "        filter: drop-shadow(0px 1px 2px rgba(0, 0, 0, 0.3));\n",
              "        fill: #FFFFFF;\n",
              "      }\n",
              "    </style>\n",
              "    <button class=\"colab-df-generate\" onclick=\"generateWithVariable('X')\"\n",
              "            title=\"Generate code using this dataframe.\"\n",
              "            style=\"display:none;\">\n",
              "\n",
              "  <svg xmlns=\"http://www.w3.org/2000/svg\" height=\"24px\"viewBox=\"0 0 24 24\"\n",
              "       width=\"24px\">\n",
              "    <path d=\"M7,19H8.4L18.45,9,17,7.55,7,17.6ZM5,21V16.75L18.45,3.32a2,2,0,0,1,2.83,0l1.4,1.43a1.91,1.91,0,0,1,.58,1.4,1.91,1.91,0,0,1-.58,1.4L9.25,21ZM18.45,9,17,7.55Zm-12,3A5.31,5.31,0,0,0,4.9,8.1,5.31,5.31,0,0,0,1,6.5,5.31,5.31,0,0,0,4.9,4.9,5.31,5.31,0,0,0,6.5,1,5.31,5.31,0,0,0,8.1,4.9,5.31,5.31,0,0,0,12,6.5,5.46,5.46,0,0,0,6.5,12Z\"/>\n",
              "  </svg>\n",
              "    </button>\n",
              "    <script>\n",
              "      (() => {\n",
              "      const buttonEl =\n",
              "        document.querySelector('#id_d842959c-b857-4080-af75-108da0c0d21e button.colab-df-generate');\n",
              "      buttonEl.style.display =\n",
              "        google.colab.kernel.accessAllowed ? 'block' : 'none';\n",
              "\n",
              "      buttonEl.onclick = () => {\n",
              "        google.colab.notebook.generateWithVariable('X');\n",
              "      }\n",
              "      })();\n",
              "    </script>\n",
              "  </div>\n",
              "\n",
              "    </div>\n",
              "  </div>\n"
            ],
            "application/vnd.google.colaboratory.intrinsic+json": {
              "type": "dataframe",
              "variable_name": "X"
            }
          },
          "metadata": {},
          "execution_count": 18
        }
      ]
    },
    {
      "cell_type": "code",
      "source": [
        "y"
      ],
      "metadata": {
        "colab": {
          "base_uri": "https://localhost:8080/",
          "height": 458
        },
        "id": "5X3al86-vdWD",
        "outputId": "8732947e-aaf8-479b-fe44-b397fa0d05ed"
      },
      "execution_count": null,
      "outputs": [
        {
          "output_type": "execute_result",
          "data": {
            "text/plain": [
              "1219029     9995\n",
              "1116965    21995\n",
              "107296     23993\n",
              "1212314    15000\n",
              "499121     14750\n",
              "           ...  \n",
              "935184     31230\n",
              "360866     16994\n",
              "305250     39700\n",
              "964279     21822\n",
              "958763     15499\n",
              "Name: Price, Length: 1000000, dtype: int64"
            ],
            "text/html": [
              "<div>\n",
              "<style scoped>\n",
              "    .dataframe tbody tr th:only-of-type {\n",
              "        vertical-align: middle;\n",
              "    }\n",
              "\n",
              "    .dataframe tbody tr th {\n",
              "        vertical-align: top;\n",
              "    }\n",
              "\n",
              "    .dataframe thead th {\n",
              "        text-align: right;\n",
              "    }\n",
              "</style>\n",
              "<table border=\"1\" class=\"dataframe\">\n",
              "  <thead>\n",
              "    <tr style=\"text-align: right;\">\n",
              "      <th></th>\n",
              "      <th>Price</th>\n",
              "    </tr>\n",
              "  </thead>\n",
              "  <tbody>\n",
              "    <tr>\n",
              "      <th>1219029</th>\n",
              "      <td>9995</td>\n",
              "    </tr>\n",
              "    <tr>\n",
              "      <th>1116965</th>\n",
              "      <td>21995</td>\n",
              "    </tr>\n",
              "    <tr>\n",
              "      <th>107296</th>\n",
              "      <td>23993</td>\n",
              "    </tr>\n",
              "    <tr>\n",
              "      <th>1212314</th>\n",
              "      <td>15000</td>\n",
              "    </tr>\n",
              "    <tr>\n",
              "      <th>499121</th>\n",
              "      <td>14750</td>\n",
              "    </tr>\n",
              "    <tr>\n",
              "      <th>...</th>\n",
              "      <td>...</td>\n",
              "    </tr>\n",
              "    <tr>\n",
              "      <th>935184</th>\n",
              "      <td>31230</td>\n",
              "    </tr>\n",
              "    <tr>\n",
              "      <th>360866</th>\n",
              "      <td>16994</td>\n",
              "    </tr>\n",
              "    <tr>\n",
              "      <th>305250</th>\n",
              "      <td>39700</td>\n",
              "    </tr>\n",
              "    <tr>\n",
              "      <th>964279</th>\n",
              "      <td>21822</td>\n",
              "    </tr>\n",
              "    <tr>\n",
              "      <th>958763</th>\n",
              "      <td>15499</td>\n",
              "    </tr>\n",
              "  </tbody>\n",
              "</table>\n",
              "<p>1000000 rows × 1 columns</p>\n",
              "</div><br><label><b>dtype:</b> int64</label>"
            ]
          },
          "metadata": {},
          "execution_count": 21
        }
      ]
    },
    {
      "cell_type": "code",
      "source": [
        "X_train, X_test, y_train, y_test = train_test_split(X, y, test_size=0.2, random_state=42)"
      ],
      "metadata": {
        "id": "j9mzFSX5o3FV"
      },
      "execution_count": null,
      "outputs": []
    },
    {
      "cell_type": "code",
      "source": [
        "scaler = StandardScaler()\n",
        "\n",
        "# Fit on training data and transform both train and test\n",
        "X_train_scaled = scaler.fit_transform(X_train)\n",
        "X_test_scaled = scaler.transform(X_test)"
      ],
      "metadata": {
        "id": "ymmmz8M-rJWL"
      },
      "execution_count": null,
      "outputs": []
    },
    {
      "cell_type": "code",
      "source": [
        "print(X_train_scaled.shape)\n"
      ],
      "metadata": {
        "colab": {
          "base_uri": "https://localhost:8080/"
        },
        "id": "9CrhE0QXwH4t",
        "outputId": "bd31d700-b1df-45d5-fc35-a6485e3f1e3c"
      },
      "execution_count": null,
      "outputs": [
        {
          "output_type": "stream",
          "name": "stdout",
          "text": [
            "(800000, 6)\n"
          ]
        }
      ]
    },
    {
      "cell_type": "code",
      "source": [
        "print(X_test_scaled.shape)\n"
      ],
      "metadata": {
        "colab": {
          "base_uri": "https://localhost:8080/"
        },
        "id": "UG6Gg_6_wdnm",
        "outputId": "a2a96a4a-0fa3-4f95-cad1-25f6b6f495b8"
      },
      "execution_count": null,
      "outputs": [
        {
          "output_type": "stream",
          "name": "stdout",
          "text": [
            "(200000, 6)\n"
          ]
        }
      ]
    },
    {
      "cell_type": "code",
      "source": [
        "print(y_test.shape)\n"
      ],
      "metadata": {
        "colab": {
          "base_uri": "https://localhost:8080/"
        },
        "id": "c-NAGTbkwgjG",
        "outputId": "1b6c0f5d-eb1c-4106-e0c5-8c07aa12a1ce"
      },
      "execution_count": null,
      "outputs": [
        {
          "output_type": "stream",
          "name": "stdout",
          "text": [
            "(200000,)\n"
          ]
        }
      ]
    },
    {
      "cell_type": "code",
      "source": [
        "print(y_train.shape)\n"
      ],
      "metadata": {
        "colab": {
          "base_uri": "https://localhost:8080/"
        },
        "id": "eyfov91Xwk-K",
        "outputId": "7b57db48-9df4-4ad3-90a8-647c6f09a617"
      },
      "execution_count": null,
      "outputs": [
        {
          "output_type": "stream",
          "name": "stdout",
          "text": [
            "(800000,)\n"
          ]
        }
      ]
    }
  ]
}